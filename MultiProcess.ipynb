{
 "cells": [
  {
   "cell_type": "code",
   "execution_count": 1,
   "metadata": {
    "collapsed": true
   },
   "outputs": [],
   "source": [
    "from Analyzor.DataFactory import DataFactory\n",
    "from Analyzor import VertexAnalyzor\n",
    "import seaborn as sns\n",
    "import numpy as np\n",
    "import pylab as plt\n",
    "import pandas as pd\n",
    "from scipy import stats\n",
    "import cv2\n",
    "import time\n",
    "import re\n",
    "import math\n",
    "from sklearn import mixture\n",
    "from skimage.transform import (hough_line, hough_line_peaks,\n",
    "                               probabilistic_hough_line)\n",
    "import time\n",
    "\n",
    "from subprocess import call\n",
    "from multiprocessing import Pool\n",
    "import re\n",
    "import os\n",
    "import subprocess\n",
    "import operator\n",
    "import json\n",
    "import matplotlib\n",
    "%matplotlib inline\n",
    "plt.rcParams['figure.figsize'] = (20, 20)\n"
   ]
  },
  {
   "cell_type": "code",
   "execution_count": 2,
   "metadata": {
    "collapsed": true
   },
   "outputs": [],
   "source": [
    "def runProcess(exe):\n",
    "    p = subprocess.Popen(exe,shell=True, stdout=subprocess.PIPE, stderr=subprocess.PIPE)\n",
    "    p.wait()\n",
    "\n",
    "    err = p.stderr.readlines()\n",
    "\n",
    "    if len(err) != 0:\n",
    "        for line in err:\n",
    "            print line\n",
    "        exit(1)\n",
    "\n",
    "    out = p.stdout.readlines()\n",
    "    return out\n",
    "\n",
    "SQLpath =\"data/SQL/10C/\"\n",
    "\n",
    "def ProcessFile(fname):\n",
    "    dp = DataFactory(fname,SQLpath+'ProtoMap.db')\n",
    "    dist = []\n",
    "    for i in  sorted(dp.t3['EventID'].unique()):\n",
    "\n",
    "        try:\n",
    "            #print i\n",
    "            image = dp.ConstructImage(i)\n",
    "            image = VertexAnalyzor.FilterBackground(image)\n",
    "            points,(xc,yc) = VertexAnalyzor.GetEventPositions(image,0)\n",
    "            r = VertexAnalyzor.GetEventInfo(points,(xc,yc))\n",
    "            dist.append(r)\n",
    "        except:\n",
    "            pass\n",
    "        \n",
    "    return dist\n",
    "\n",
    "\n",
    "def main():\n",
    "    pool = Pool(processes=8)\n",
    "\n",
    "\n",
    "    param = []\n",
    "    runs = [85,88]\n",
    "    \n",
    "\n",
    "    for run in runs:\n",
    "        for i in range(16):\n",
    "            path = SQLpath+'{:04d}_{:04d}.db'.format(run,i)\n",
    "            param.append(path)\n",
    "\n",
    "\n",
    "    start_time = time.time()\n",
    "    res = pool.map(ProcessFile,param)\n",
    "\n",
    "    end_time = time.time()\n",
    "\n",
    "    print \"total process cost \"+str(end_time - start_time)\n",
    "    return res\n"
   ]
  },
  {
   "cell_type": "code",
   "execution_count": 3,
   "metadata": {},
   "outputs": [
    {
     "name": "stdout",
     "output_type": "stream",
     "text": [
      "0085_0007 initialization will take some time\n",
      "0085_0006 initialization will take some time\n",
      "0085_0005 initialization will take some time\n",
      "0085_0000 initialization will take some time\n",
      "0085_0001 initialization will take some time\n",
      "0085_0002 initialization will take some time\n",
      "0085_0003 initialization will take some time\n",
      "0085_0004 initialization will take some time\n",
      "0085_0005loading finished\n",
      "0085_0005 begin processing\n",
      "0085_0004loading finished\n",
      "0085_0004 begin processing\n",
      "0085_0002loading finished\n",
      "0085_0002 begin processing\n",
      "0085_0006loading finished\n",
      "0085_0006 begin processing\n",
      "0085_0007loading finished\n",
      "0085_0007 begin processing\n",
      "0085_0000loading finished\n",
      "0085_0000 begin processing\n",
      "0085_0001loading finished\n",
      "0085_0001 begin processing\n",
      "0085_0003loading finished\n",
      "0085_0003 begin processing\n",
      "0085_0008 initialization will take some time\n",
      "0085_0009 initialization will take some time\n",
      "0085_0010 initialization will take some time\n"
     ]
    },
    {
     "ename": "MemoryError",
     "evalue": "",
     "output_type": "error",
     "traceback": [
      "\u001b[0;31m---------------------------------------\u001b[0m",
      "\u001b[0;31mMemoryError\u001b[0mTraceback (most recent call last)",
      "\u001b[0;32m<ipython-input-3-7cf8df170e9e>\u001b[0m in \u001b[0;36m<module>\u001b[0;34m()\u001b[0m\n\u001b[0;32m----> 1\u001b[0;31m \u001b[0mres\u001b[0m \u001b[0;34m=\u001b[0m \u001b[0mmain\u001b[0m\u001b[0;34m(\u001b[0m\u001b[0;34m)\u001b[0m\u001b[0;34m\u001b[0m\u001b[0m\n\u001b[0m",
      "\u001b[0;32m<ipython-input-2-12d6a459d526>\u001b[0m in \u001b[0;36mmain\u001b[0;34m()\u001b[0m\n\u001b[1;32m     48\u001b[0m \u001b[0;34m\u001b[0m\u001b[0m\n\u001b[1;32m     49\u001b[0m     \u001b[0mstart_time\u001b[0m \u001b[0;34m=\u001b[0m \u001b[0mtime\u001b[0m\u001b[0;34m.\u001b[0m\u001b[0mtime\u001b[0m\u001b[0;34m(\u001b[0m\u001b[0;34m)\u001b[0m\u001b[0;34m\u001b[0m\u001b[0m\n\u001b[0;32m---> 50\u001b[0;31m     \u001b[0mres\u001b[0m \u001b[0;34m=\u001b[0m \u001b[0mpool\u001b[0m\u001b[0;34m.\u001b[0m\u001b[0mmap\u001b[0m\u001b[0;34m(\u001b[0m\u001b[0mProcessFile\u001b[0m\u001b[0;34m,\u001b[0m\u001b[0mparam\u001b[0m\u001b[0;34m)\u001b[0m\u001b[0;34m\u001b[0m\u001b[0m\n\u001b[0m\u001b[1;32m     51\u001b[0m \u001b[0;34m\u001b[0m\u001b[0m\n\u001b[1;32m     52\u001b[0m     \u001b[0mend_time\u001b[0m \u001b[0;34m=\u001b[0m \u001b[0mtime\u001b[0m\u001b[0;34m.\u001b[0m\u001b[0mtime\u001b[0m\u001b[0;34m(\u001b[0m\u001b[0;34m)\u001b[0m\u001b[0;34m\u001b[0m\u001b[0m\n",
      "\u001b[0;32m/afs/crc.nd.edu/user/j/jlai1/.local/usr/share/anaconda2/lib/python2.7/multiprocessing/pool.pyc\u001b[0m in \u001b[0;36mmap\u001b[0;34m(self, func, iterable, chunksize)\u001b[0m\n\u001b[1;32m    249\u001b[0m         '''\n\u001b[1;32m    250\u001b[0m         \u001b[0;32massert\u001b[0m \u001b[0mself\u001b[0m\u001b[0;34m.\u001b[0m\u001b[0m_state\u001b[0m \u001b[0;34m==\u001b[0m \u001b[0mRUN\u001b[0m\u001b[0;34m\u001b[0m\u001b[0m\n\u001b[0;32m--> 251\u001b[0;31m         \u001b[0;32mreturn\u001b[0m \u001b[0mself\u001b[0m\u001b[0;34m.\u001b[0m\u001b[0mmap_async\u001b[0m\u001b[0;34m(\u001b[0m\u001b[0mfunc\u001b[0m\u001b[0;34m,\u001b[0m \u001b[0miterable\u001b[0m\u001b[0;34m,\u001b[0m \u001b[0mchunksize\u001b[0m\u001b[0;34m)\u001b[0m\u001b[0;34m.\u001b[0m\u001b[0mget\u001b[0m\u001b[0;34m(\u001b[0m\u001b[0;34m)\u001b[0m\u001b[0;34m\u001b[0m\u001b[0m\n\u001b[0m\u001b[1;32m    252\u001b[0m \u001b[0;34m\u001b[0m\u001b[0m\n\u001b[1;32m    253\u001b[0m     \u001b[0;32mdef\u001b[0m \u001b[0mimap\u001b[0m\u001b[0;34m(\u001b[0m\u001b[0mself\u001b[0m\u001b[0;34m,\u001b[0m \u001b[0mfunc\u001b[0m\u001b[0;34m,\u001b[0m \u001b[0miterable\u001b[0m\u001b[0;34m,\u001b[0m \u001b[0mchunksize\u001b[0m\u001b[0;34m=\u001b[0m\u001b[0;36m1\u001b[0m\u001b[0;34m)\u001b[0m\u001b[0;34m:\u001b[0m\u001b[0;34m\u001b[0m\u001b[0m\n",
      "\u001b[0;32m/afs/crc.nd.edu/user/j/jlai1/.local/usr/share/anaconda2/lib/python2.7/multiprocessing/pool.pyc\u001b[0m in \u001b[0;36mget\u001b[0;34m(self, timeout)\u001b[0m\n\u001b[1;32m    565\u001b[0m             \u001b[0;32mreturn\u001b[0m \u001b[0mself\u001b[0m\u001b[0;34m.\u001b[0m\u001b[0m_value\u001b[0m\u001b[0;34m\u001b[0m\u001b[0m\n\u001b[1;32m    566\u001b[0m         \u001b[0;32melse\u001b[0m\u001b[0;34m:\u001b[0m\u001b[0;34m\u001b[0m\u001b[0m\n\u001b[0;32m--> 567\u001b[0;31m             \u001b[0;32mraise\u001b[0m \u001b[0mself\u001b[0m\u001b[0;34m.\u001b[0m\u001b[0m_value\u001b[0m\u001b[0;34m\u001b[0m\u001b[0m\n\u001b[0m\u001b[1;32m    568\u001b[0m \u001b[0;34m\u001b[0m\u001b[0m\n\u001b[1;32m    569\u001b[0m     \u001b[0;32mdef\u001b[0m \u001b[0m_set\u001b[0m\u001b[0;34m(\u001b[0m\u001b[0mself\u001b[0m\u001b[0;34m,\u001b[0m \u001b[0mi\u001b[0m\u001b[0;34m,\u001b[0m \u001b[0mobj\u001b[0m\u001b[0;34m)\u001b[0m\u001b[0;34m:\u001b[0m\u001b[0;34m\u001b[0m\u001b[0m\n",
      "\u001b[0;31mMemoryError\u001b[0m: "
     ]
    },
    {
     "name": "stdout",
     "output_type": "stream",
     "text": [
      "0085_0011 initialization will take some time\n",
      "0085_0004 processing finished\n",
      "0085_0006 processing finished\n",
      "0085_0007 processing finished\n",
      "0085_0003 processing finished\n"
     ]
    },
    {
     "name": "stderr",
     "output_type": "stream",
     "text": [
      "Analyzor/VertexAnalyzor.py:36: RuntimeWarning: invalid value encountered in double_scalars\n",
      "  k = yi/(xi+1e-9*abs(xi)/xi)\n",
      "Analyzor/VertexAnalyzor.py:27: RuntimeWarning: divide by zero encountered in double_scalars\n",
      "  return (y0-b1)/k1,y0\n",
      "Analyzor/VertexAnalyzor.py:120: RuntimeWarning: invalid value encountered in double_scalars\n",
      "  return math.acos((x2-x1)/L)/math.pi*180,L\n",
      "Analyzor/VertexAnalyzor.py:27: RuntimeWarning: divide by zero encountered in double_scalars\n",
      "  return (y0-b1)/k1,y0\n",
      "Analyzor/VertexAnalyzor.py:120: RuntimeWarning: invalid value encountered in double_scalars\n",
      "  return math.acos((x2-x1)/L)/math.pi*180,L\n"
     ]
    },
    {
     "name": "stdout",
     "output_type": "stream",
     "text": [
      "0085_0012 initialization will take some time\n",
      "0085_0013 initialization will take some time\n",
      "0085_0008loading finished\n",
      "0085_0008 begin processing\n",
      "0085_0014 initialization will take some time\n",
      "0085_0015 initialization will take some time\n",
      "0085_0011loading finished\n",
      "0085_0011 begin processing\n",
      "0085_0009loading finished\n",
      "0085_0009 begin processing\n",
      "0085_0010loading finished\n",
      "0085_0010 begin processing\n",
      "0085_0008 processing finished\n",
      "0085_0015loading finished\n",
      "0085_0015 begin processing\n",
      "0085_0015 processing finished\n",
      "0085_0011 processing finished\n",
      "0085_0009 processing finished\n",
      "0088_0000 initialization will take some time\n"
     ]
    },
    {
     "name": "stderr",
     "output_type": "stream",
     "text": [
      "Analyzor/VertexAnalyzor.py:27: RuntimeWarning: divide by zero encountered in double_scalars\n",
      "  return (y0-b1)/k1,y0\n",
      "Analyzor/VertexAnalyzor.py:120: RuntimeWarning: invalid value encountered in double_scalars\n",
      "  return math.acos((x2-x1)/L)/math.pi*180,L\n"
     ]
    },
    {
     "name": "stdout",
     "output_type": "stream",
     "text": [
      "0085_0010 processing finished\n"
     ]
    },
    {
     "name": "stderr",
     "output_type": "stream",
     "text": [
      "Analyzor/VertexAnalyzor.py:27: RuntimeWarning: divide by zero encountered in double_scalars\n",
      "  return (y0-b1)/k1,y0\n",
      "Analyzor/VertexAnalyzor.py:120: RuntimeWarning: invalid value encountered in double_scalars\n",
      "  return math.acos((x2-x1)/L)/math.pi*180,L\n"
     ]
    },
    {
     "name": "stdout",
     "output_type": "stream",
     "text": [
      "0088_0001 initialization will take some time\n",
      "0085_0013loading finished\n",
      "0085_0013 begin processing\n",
      "0085_0014loading finished\n",
      "0085_0014 begin processing\n",
      "0085_0012loading finished\n",
      "0085_0012 begin processing\n",
      "0088_0002 initialization will take some time\n",
      "0088_0002loading finished\n",
      "0088_0002 begin processing\n",
      "0088_0002 processing finished\n",
      "0088_0003 initialization will take some time\n",
      "0085_0013 processing finished\n",
      "0088_0004 initialization will take some time\n",
      "0088_0005 initialization will take some time\n",
      "0085_0014 processing finished\n",
      "0085_0012 processing finished\n",
      "0088_0000loading finished\n",
      "0088_0000 begin processing\n",
      "0088_0000 processing finished\n",
      "0088_0001loading finished\n",
      "0088_0001 begin processing\n",
      "0088_0006 initialization will take some time\n",
      "0088_0007 initialization will take some time\n",
      "0088_0008 initialization will take some time\n",
      "0088_0009 initialization will take some time\n",
      "0088_0001 processing finished\n",
      "0088_0004loading finished\n",
      "0088_0004 begin processing\n",
      "0088_0005loading finished\n",
      "0088_0005 begin processing\n",
      "0088_0003loading finished\n",
      "0088_0003 begin processing\n",
      "0088_0004 processing finished\n",
      "0088_0010 initialization will take some time\n",
      "0088_0005 processing finished\n",
      "0088_0003 processing finished\n"
     ]
    },
    {
     "name": "stderr",
     "output_type": "stream",
     "text": [
      "Analyzor/VertexAnalyzor.py:27: RuntimeWarning: divide by zero encountered in double_scalars\n",
      "  return (y0-b1)/k1,y0\n",
      "Analyzor/VertexAnalyzor.py:120: RuntimeWarning: invalid value encountered in double_scalars\n",
      "  return math.acos((x2-x1)/L)/math.pi*180,L\n"
     ]
    },
    {
     "name": "stdout",
     "output_type": "stream",
     "text": [
      "0088_0007loading finished\n",
      "0088_0007 begin processing\n",
      "0088_0006loading finished\n",
      "0088_0006 begin processing\n"
     ]
    },
    {
     "name": "stderr",
     "output_type": "stream",
     "text": [
      "Analyzor/VertexAnalyzor.py:36: RuntimeWarning: invalid value encountered in double_scalars\n",
      "  k = yi/(xi+1e-9*abs(xi)/xi)\n"
     ]
    },
    {
     "name": "stdout",
     "output_type": "stream",
     "text": [
      "0088_0009loading finished\n",
      "0088_0009 begin processing\n",
      "0088_0008loading finished\n",
      "0088_0008 begin processing\n",
      "0088_0011 initialization will take some time\n",
      "0088_0012 initialization will take some time\n",
      "0088_0007 processing finished\n",
      "0088_0006 processing finished\n",
      "0088_0013 initialization will take some time\n"
     ]
    },
    {
     "name": "stderr",
     "output_type": "stream",
     "text": [
      "Analyzor/VertexAnalyzor.py:27: RuntimeWarning: divide by zero encountered in double_scalars\n",
      "  return (y0-b1)/k1,y0\n",
      "Analyzor/VertexAnalyzor.py:120: RuntimeWarning: invalid value encountered in double_scalars\n",
      "  return math.acos((x2-x1)/L)/math.pi*180,L\n"
     ]
    },
    {
     "name": "stdout",
     "output_type": "stream",
     "text": [
      "0088_0008 processing finished\n",
      "0088_0009 processing finished\n",
      "0088_0010loading finished\n",
      "0088_0010 begin processing\n",
      "0088_0014 initialization will take some time\n",
      "0088_0015 initialization will take some time\n",
      "0088_0015loading finished\n",
      "0088_0015 begin processing\n",
      "0088_0015 processing finished\n",
      "0088_0010 processing finished\n",
      "0088_0011loading finished\n",
      "0088_0011 begin processing\n",
      "0088_0012loading finished\n",
      "0088_0012 begin processing\n",
      "0088_0011 processing finished\n",
      "0088_0013loading finished\n",
      "0088_0013 begin processing\n",
      "0088_0012 processing finished\n",
      "0088_0013 processing finished\n"
     ]
    },
    {
     "name": "stderr",
     "output_type": "stream",
     "text": [
      "Analyzor/VertexAnalyzor.py:36: RuntimeWarning: invalid value encountered in double_scalars\n",
      "  k = yi/(xi+1e-9*abs(xi)/xi)\n"
     ]
    },
    {
     "name": "stdout",
     "output_type": "stream",
     "text": [
      "0088_0014loading finished\n",
      "0088_0014 begin processing\n",
      "0088_0014 processing finished\n"
     ]
    },
    {
     "name": "stderr",
     "output_type": "stream",
     "text": [
      "Analyzor/VertexAnalyzor.py:36: RuntimeWarning: invalid value encountered in double_scalars\n",
      "  k = yi/(xi+1e-9*abs(xi)/xi)\n"
     ]
    }
   ],
   "source": [
    "res = main()"
   ]
  },
  {
   "cell_type": "markdown",
   "metadata": {},
   "source": [
    "data = [_ for _ in reduce(operator.add,res) if _<1e6]\n",
    "plt.hist(data,np.arange(0,500,2));\n",
    "plt.tick_params(axis='both', which='major', labelsize=40)"
   ]
  },
  {
   "cell_type": "code",
   "execution_count": null,
   "metadata": {
    "collapsed": true
   },
   "outputs": [],
   "source": [
    "with open('data.dat','w') as f:\n",
    "    json.dump(data,f)"
   ]
  },
  {
   "cell_type": "code",
   "execution_count": 8,
   "metadata": {},
   "outputs": [
    {
     "ename": "NameError",
     "evalue": "name 'res' is not defined",
     "output_type": "error",
     "traceback": [
      "\u001b[0;31m---------------------------------------\u001b[0m",
      "\u001b[0;31mNameError\u001b[0mTraceback (most recent call last)",
      "\u001b[0;32m<ipython-input-8-f238d5a8023e>\u001b[0m in \u001b[0;36m<module>\u001b[0;34m()\u001b[0m\n\u001b[0;32m----> 1\u001b[0;31m \u001b[0mdata\u001b[0m \u001b[0;34m=\u001b[0m \u001b[0;34m[\u001b[0m\u001b[0m_\u001b[0m \u001b[0;32mfor\u001b[0m \u001b[0m_\u001b[0m \u001b[0;32min\u001b[0m \u001b[0mreduce\u001b[0m\u001b[0;34m(\u001b[0m\u001b[0moperator\u001b[0m\u001b[0;34m.\u001b[0m\u001b[0madd\u001b[0m\u001b[0;34m,\u001b[0m\u001b[0mres\u001b[0m\u001b[0;34m)\u001b[0m\u001b[0;34m]\u001b[0m\u001b[0;34m\u001b[0m\u001b[0m\n\u001b[0m\u001b[1;32m      2\u001b[0m \u001b[0mdata\u001b[0m \u001b[0;34m=\u001b[0m \u001b[0;34m[\u001b[0m\u001b[0;34m{\u001b[0m\u001b[0;34m'theta1'\u001b[0m\u001b[0;34m:\u001b[0m\u001b[0md\u001b[0m\u001b[0;34m[\u001b[0m\u001b[0;36m0\u001b[0m\u001b[0;34m]\u001b[0m\u001b[0;34m[\u001b[0m\u001b[0;36m0\u001b[0m\u001b[0;34m]\u001b[0m\u001b[0;34m[\u001b[0m\u001b[0;36m0\u001b[0m\u001b[0;34m]\u001b[0m\u001b[0;34m,\u001b[0m\u001b[0;34m'L1'\u001b[0m\u001b[0;34m:\u001b[0m\u001b[0md\u001b[0m\u001b[0;34m[\u001b[0m\u001b[0;36m0\u001b[0m\u001b[0;34m]\u001b[0m\u001b[0;34m[\u001b[0m\u001b[0;36m0\u001b[0m\u001b[0;34m]\u001b[0m\u001b[0;34m[\u001b[0m\u001b[0;36m1\u001b[0m\u001b[0;34m]\u001b[0m\u001b[0;34m,\u001b[0m\u001b[0;34m'theta2'\u001b[0m\u001b[0;34m:\u001b[0m\u001b[0md\u001b[0m\u001b[0;34m[\u001b[0m\u001b[0;36m0\u001b[0m\u001b[0;34m]\u001b[0m\u001b[0;34m[\u001b[0m\u001b[0;36m1\u001b[0m\u001b[0;34m]\u001b[0m\u001b[0;34m[\u001b[0m\u001b[0;36m0\u001b[0m\u001b[0;34m]\u001b[0m\u001b[0;34m,\u001b[0m\u001b[0;34m'L2'\u001b[0m\u001b[0;34m:\u001b[0m\u001b[0md\u001b[0m\u001b[0;34m[\u001b[0m\u001b[0;36m0\u001b[0m\u001b[0;34m]\u001b[0m\u001b[0;34m[\u001b[0m\u001b[0;36m1\u001b[0m\u001b[0;34m]\u001b[0m\u001b[0;34m[\u001b[0m\u001b[0;36m1\u001b[0m\u001b[0;34m]\u001b[0m\u001b[0;34m,\u001b[0m\u001b[0;34m'Range'\u001b[0m\u001b[0;34m:\u001b[0m\u001b[0md\u001b[0m\u001b[0;34m[\u001b[0m\u001b[0;36m1\u001b[0m\u001b[0;34m]\u001b[0m\u001b[0;34m}\u001b[0m\u001b[0;32mfor\u001b[0m \u001b[0md\u001b[0m \u001b[0;32min\u001b[0m \u001b[0mdata\u001b[0m\u001b[0;34m]\u001b[0m\u001b[0;34m\u001b[0m\u001b[0m\n",
      "\u001b[0;31mNameError\u001b[0m: name 'res' is not defined"
     ]
    }
   ],
   "source": [
    "data = [_ for _ in reduce(operator.add,res)]\n",
    "data = [{'theta1':d[0][0][0],'L1':d[0][0][1],'theta2':d[0][1][0],'L2':d[0][1][1],'Range':d[1]}for d in data]"
   ]
  },
  {
   "cell_type": "code",
   "execution_count": 7,
   "metadata": {},
   "outputs": [
    {
     "ename": "NameError",
     "evalue": "name 'res' is not defined",
     "output_type": "error",
     "traceback": [
      "\u001b[0;31m---------------------------------------\u001b[0m",
      "\u001b[0;31mNameError\u001b[0mTraceback (most recent call last)",
      "\u001b[0;32m<ipython-input-7-41a0db25bac4>\u001b[0m in \u001b[0;36m<module>\u001b[0;34m()\u001b[0m\n\u001b[0;32m----> 1\u001b[0;31m \u001b[0mres\u001b[0m\u001b[0;34m\u001b[0m\u001b[0m\n\u001b[0m",
      "\u001b[0;31mNameError\u001b[0m: name 'res' is not defined"
     ]
    }
   ],
   "source": [
    "res"
   ]
  },
  {
   "cell_type": "code",
   "execution_count": null,
   "metadata": {
    "collapsed": true
   },
   "outputs": [],
   "source": [
    "'data/SQL/10C/0085_0011.db'.split('/')[-1][:-3]"
   ]
  },
  {
   "cell_type": "code",
   "execution_count": null,
   "metadata": {
    "collapsed": true
   },
   "outputs": [],
   "source": []
  }
 ],
 "metadata": {
  "kernelspec": {
   "display_name": "Python 2",
   "language": "python",
   "name": "python2"
  },
  "language_info": {
   "codemirror_mode": {
    "name": "ipython",
    "version": 2
   },
   "file_extension": ".py",
   "mimetype": "text/x-python",
   "name": "python",
   "nbconvert_exporter": "python",
   "pygments_lexer": "ipython2",
   "version": "2.7.13"
  }
 },
 "nbformat": 4,
 "nbformat_minor": 2
}
